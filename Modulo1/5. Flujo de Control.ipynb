{
 "cells": [
  {
   "cell_type": "markdown",
   "metadata": {},
   "source": [
    "# FLUJO DE CONTROL"
   ]
  },
  {
   "cell_type": "markdown",
   "metadata": {},
   "source": [
    "El flujo de control ayudará a nuestro programa en la toma de decisiones"
   ]
  },
  {
   "cell_type": "markdown",
   "metadata": {},
   "source": [
    "<center> <img src='data:image/jpeg;base64,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' width=\"400\" height=\"250\"></center>"
   ]
  },
  {
   "cell_type": "markdown",
   "metadata": {},
   "source": [
    "## 1. Flujo de control (if - else) "
   ]
  },
  {
   "cell_type": "markdown",
   "metadata": {},
   "source": [
    "El uso de condiciones nos permite tener un mayor control sobre el flujo del programa."
   ]
  },
  {
   "cell_type": "code",
   "execution_count": null,
   "metadata": {},
   "outputs": [],
   "source": [
    "\n",
    "# if condicion:\n",
    "#     print('Condicion fue verdad')\n",
    "    \n",
    "#     if x:\n",
    "#         print('condicion interna')"
   ]
  },
  {
   "cell_type": "code",
   "execution_count": 1,
   "metadata": {},
   "outputs": [
    {
     "name": "stdout",
     "output_type": "stream",
     "text": [
      "Hola\n"
     ]
    }
   ],
   "source": [
    "# Uso de la sentencia if (si)\n",
    "if True:\n",
    "    print('Hola')"
   ]
  },
  {
   "cell_type": "code",
   "execution_count": 2,
   "metadata": {},
   "outputs": [
    {
     "name": "stdout",
     "output_type": "stream",
     "text": [
      "hola\n"
     ]
    }
   ],
   "source": [
    "if True:\n",
    "    print('hola')  # 4 veces espacio"
   ]
  },
  {
   "cell_type": "code",
   "execution_count": 5,
   "metadata": {},
   "outputs": [
    {
     "name": "stdout",
     "output_type": "stream",
     "text": [
      "el valor de x = 9 es distinto de 8\n"
     ]
    }
   ],
   "source": [
    "# Sentencia else (si no)\n",
    "x = 9\n",
    "if x == 8 :\n",
    "    print('el valor de x es 8')  # 4 espacios\n",
    "else:\n",
    "    print('el valor de x = {} es distinto de 8'.format(x))\n",
    "    #print('el valor de x es {}'.format(x))"
   ]
  },
  {
   "cell_type": "code",
   "execution_count": 8,
   "metadata": {},
   "outputs": [
    {
     "name": "stdout",
     "output_type": "stream",
     "text": [
      "a vale 5\n",
      "y b vale 10\n"
     ]
    }
   ],
   "source": [
    "# uso de If anidado\n",
    "a = 5\n",
    "b = 10\n",
    "if a == 5:\n",
    "    print(\"a vale\",a)\n",
    "    \n",
    "    if b == 10:\n",
    "        print('y b vale',b)"
   ]
  },
  {
   "cell_type": "markdown",
   "metadata": {},
   "source": [
    "## 2. Sentencia elif (sino si)"
   ]
  },
  {
   "cell_type": "markdown",
   "metadata": {},
   "source": [
    "Se encadena a un if u otro elif para comprobar múltiples condiciones, siempre que las anteriores no se ejecuten:"
   ]
  },
  {
   "cell_type": "code",
   "execution_count": 10,
   "metadata": {},
   "outputs": [
    {
     "name": "stdout",
     "output_type": "stream",
     "text": [
      "el valor de x es distinto de 8,9 y 10\n"
     ]
    }
   ],
   "source": [
    "# Sentencia else (si no)\n",
    "x=15\n",
    "if x==8 :\n",
    "    print('el valor de x es 8')\n",
    "elif x==9:\n",
    "    print('el valor de x es 9')\n",
    "elif x==10:\n",
    "    print('el valor de x es 10')\n",
    "else:\n",
    "    print('el valor de x es distinto de 8,9 y 10')"
   ]
  },
  {
   "cell_type": "code",
   "execution_count": null,
   "metadata": {},
   "outputs": [],
   "source": []
  },
  {
   "cell_type": "code",
   "execution_count": 14,
   "metadata": {},
   "outputs": [
    {
     "name": "stdout",
     "output_type": "stream",
     "text": [
      "No es el nombre\n",
      "Adios\n"
     ]
    }
   ],
   "source": [
    "\n",
    "nombre = 'Gonzalox'\n",
    "\n",
    "if nombre == 'Gonzalo':\n",
    "    print('Bienvenido')\n",
    "else:\n",
    "    print('No es el nombre')\n",
    "\n",
    "# fuera de la condicion\n",
    "print('Adios')"
   ]
  },
  {
   "cell_type": "code",
   "execution_count": null,
   "metadata": {},
   "outputs": [],
   "source": []
  },
  {
   "cell_type": "code",
   "execution_count": null,
   "metadata": {},
   "outputs": [],
   "source": []
  },
  {
   "cell_type": "code",
   "execution_count": null,
   "metadata": {},
   "outputs": [],
   "source": []
  },
  {
   "cell_type": "markdown",
   "metadata": {},
   "source": [
    "# EJERCICIOS"
   ]
  },
  {
   "cell_type": "markdown",
   "metadata": {},
   "source": [
    "#### 1.\n",
    "Crear un programa que permita decidir a una persona cruzar la calle o no según:\n",
    "- Si semáforo esta en verde cruzar la calle\n",
    "- Si semáforo esta en rojo o amarillo no cruzar\n",
    "\n",
    "La persona debe poder ingresar el estado del semáforo por teclado"
   ]
  },
  {
   "cell_type": "code",
   "execution_count": null,
   "metadata": {},
   "outputs": [],
   "source": []
  },
  {
   "cell_type": "code",
   "execution_count": 19,
   "metadata": {},
   "outputs": [
    {
     "name": "stdin",
     "output_type": "stream",
     "text": [
      "ingrese el estado del semaforo ===>> verde\n"
     ]
    },
    {
     "name": "stdout",
     "output_type": "stream",
     "text": [
      "puede cruzar\n"
     ]
    }
   ],
   "source": [
    "x = input('ingrese el estado del semaforo ===>>')\n",
    "x = x.lower()\n",
    "\n",
    "if x == 'verde':\n",
    "    print('puede cruzar')\n",
    "elif x == 'rojo' or x =='amarillo':\n",
    "    print('no puede cruzar la calle')\n",
    "else :\n",
    "    print('no reconoce color')\n"
   ]
  },
  {
   "cell_type": "code",
   "execution_count": null,
   "metadata": {},
   "outputs": [],
   "source": [
    "ROJO"
   ]
  },
  {
   "cell_type": "code",
   "execution_count": 16,
   "metadata": {},
   "outputs": [
    {
     "data": {
      "text/plain": [
       "'rojo'"
      ]
     },
     "execution_count": 16,
     "metadata": {},
     "output_type": "execute_result"
    }
   ],
   "source": [
    "'Rojo'.lower()"
   ]
  },
  {
   "cell_type": "code",
   "execution_count": 17,
   "metadata": {},
   "outputs": [
    {
     "data": {
      "text/plain": [
       "'ROJO'"
      ]
     },
     "execution_count": 17,
     "metadata": {},
     "output_type": "execute_result"
    }
   ],
   "source": [
    "'Rojo'.upper()"
   ]
  },
  {
   "cell_type": "markdown",
   "metadata": {},
   "source": [
    "#### 2.\n",
    "Escribir un programa que pregunte al usuario su edad y muestre por pantalla si es mayor de edad o no."
   ]
  },
  {
   "cell_type": "code",
   "execution_count": null,
   "metadata": {},
   "outputs": [],
   "source": [
    "x=int(input('ingrese su edad'))\n",
    "if x>=18:\n",
    "    print('es mayor de edad')\n",
    "else:\n",
    "    print('es menor de edad')\n"
   ]
  },
  {
   "cell_type": "code",
   "execution_count": null,
   "metadata": {},
   "outputs": [],
   "source": []
  },
  {
   "cell_type": "markdown",
   "metadata": {},
   "source": [
    "#### 3.\n",
    "Escribir un programa que almacene la cadena de caracteres <b>contraseña</b> en una variable, pregunte al usuario por la contraseña e imprima por pantalla si la contraseña introducida por el usuario coincide con la guardada en la variable sin tener en cuenta mayúsculas y minúsculas."
   ]
  },
  {
   "cell_type": "code",
   "execution_count": null,
   "metadata": {},
   "outputs": [],
   "source": [
    "key = \"gato\"\n",
    "password = input(\"Introduce la contraseña: \")\n",
    "\n",
    "if key == password:\n",
    "    print(\"La contaseña coincide\")\n",
    "else:\n",
    "    print(\"La contraseña no coincide\")\n"
   ]
  },
  {
   "cell_type": "markdown",
   "metadata": {},
   "source": [
    "### 4. \n",
    "Escribir un programa que pida al usuario un número entero y muestre por pantalla si es par o impar.\n"
   ]
  },
  {
   "cell_type": "code",
   "execution_count": null,
   "metadata": {},
   "outputs": [],
   "source": []
  },
  {
   "cell_type": "code",
   "execution_count": null,
   "metadata": {},
   "outputs": [],
   "source": []
  },
  {
   "cell_type": "markdown",
   "metadata": {},
   "source": [
    "#### 5.\n",
    "Los tramos impositivos para la declaración de la renta en un determinado país son los siguientes:\n",
    "\n",
    "<table>\n",
    "    <thead>\n",
    "        <th style=\"text-align: center\">Renta</th>\n",
    "        <th style=\"text-align: center\">% de Impuesto</th>\n",
    "    </thead>\n",
    "    <tbody>\n",
    "        <tr>\n",
    "            <td style=\"text-align: center\">Menos de 10000€</td>\n",
    "            <td style=\"text-align: center\">5%</td>\n",
    "        </tr>\n",
    "        <tr>\n",
    "            <td style=\"text-align: center\">Entre 10000€ y 20000€</td>\n",
    "            <td style=\"text-align: center\">15%</td>\n",
    "        </tr>\n",
    "        <tr>\n",
    "            <td style=\"text-align: center\">Entre 20000€ y 35000€</td>\n",
    "            <td style=\"text-align: center\">20%</td>\n",
    "        </tr>\n",
    "        <tr>\n",
    "            <td style=\"text-align: center\">Entre 35000€ y 60000€</td>\n",
    "            <td style=\"text-align: center\">30%</td>\n",
    "        </tr>\n",
    "        <tr>\n",
    "            <td style=\"text-align: center\">Más de 60000€</td>\n",
    "            <td style=\"text-align: center\">45%</td>\n",
    "        </tr>\n",
    "    </tbody>\n",
    "</table>\n"
   ]
  },
  {
   "cell_type": "markdown",
   "metadata": {},
   "source": [
    "Realizar un programa que pueda decir el % de impuestos que una persona deba pagar según su sueldo"
   ]
  },
  {
   "cell_type": "code",
   "execution_count": 20,
   "metadata": {},
   "outputs": [
    {
     "name": "stdin",
     "output_type": "stream",
     "text": [
      "íngrese su sueldo: 500\n"
     ]
    },
    {
     "name": "stdout",
     "output_type": "stream",
     "text": [
      "El impuesto a pagar es 5%\n"
     ]
    }
   ],
   "source": [
    "sueldo=int(input('íngrese su sueldo:'))\n",
    "\n",
    "if sueldo < 10000:\n",
    "    print('El impuesto a pagar es 5%') \n",
    "elif sueldo >10000 and sueldo<20000:\n",
    "    print('El impuesto a pagar es 15%') \n",
    "elif sueldo >20000 and sueldo<35000:\n",
    "    print('El impuesto a pagar es 20%') \n",
    "elif sueldo >35000 and sueldo<60000:\n",
    "    print('El impuesto a pagar es 30%') \n",
    "\n",
    "elif sueldo >60000:\n",
    "    print('El impuesto a pagar es 45%')\n"
   ]
  },
  {
   "cell_type": "markdown",
   "metadata": {},
   "source": [
    "#### 6. \n",
    "Realiza un programa que lea dos números por teclado y permita elegir entre 3 opciones en un menú:\n",
    "\n",
    "- Mostrar una suma de los dos números\n",
    "- Mostrar una resta de los dos números (el primero menos el segundo)\n",
    "- Mostrar una multiplicación de los dos números\n",
    "- En caso de introducir una opción inválida, el programa informará de que no es correcta.\n"
   ]
  },
  {
   "cell_type": "code",
   "execution_count": null,
   "metadata": {},
   "outputs": [],
   "source": []
  },
  {
   "cell_type": "markdown",
   "metadata": {},
   "source": [
    "#### 7.\n",
    "La pizzería Bella Napoli ofrece pizzas vegetarianas y no vegetarianas a sus clientes. Los ingredientes para cada tipo de pizza aparecen a continuación.\n",
    "\n",
    "- Ingredientes vegetarianos: Pimiento y tofu.\n",
    "- Ingredientes no vegetarianos: Peperoni, Jamón y Salmón.\n",
    "\n",
    "Escribir un programa que pregunte al usuario si quiere una pizza vegetariana o no, y en función de su respuesta le muestre un menú con los ingredientes disponibles para que elija. Solo se puede eligir un ingrediente además de la mozzarella y el tomate que están en todas la pizzas. Al final se debe mostrar por pantalla si la pizza elegida es vegetariana o no y todos los ingredientes que lleva."
   ]
  },
  {
   "cell_type": "code",
   "execution_count": null,
   "metadata": {},
   "outputs": [],
   "source": []
  },
  {
   "cell_type": "markdown",
   "metadata": {},
   "source": [
    "#### 8.\n",
    "Escribí un programa que solicite al usuario una letra y, si es una vocal, muestre el mensaje “Es vocal”. Verificar si el usuario ingresó un string de más de un carácter y, en ese caso, informarle que no se puede procesar el dato.\n"
   ]
  },
  {
   "cell_type": "code",
   "execution_count": 21,
   "metadata": {},
   "outputs": [
    {
     "name": "stdout",
     "output_type": "stream",
     "text": [
      "------ESCRIBIR UNA LETRA-------\n"
     ]
    },
    {
     "name": "stdin",
     "output_type": "stream",
     "text": [
      "Letra: a\n"
     ]
    },
    {
     "name": "stdout",
     "output_type": "stream",
     "text": [
      "------Es vocal------\n"
     ]
    }
   ],
   "source": [
    "#Ver si una letra es vocal o no\n",
    "print (\"------ESCRIBIR UNA LETRA-------\")\n",
    "letra=input(\"Letra:\")\n",
    "\n",
    "if len(letra)!=1:\n",
    "    print(\"------Debe ser sólo una letra------\")\n",
    "else:\n",
    "    if letra==\"a\" or letra==\"e\" or letra==\"i\" or letra==\"o\" or letra==\"u\":\n",
    "        print(\"------Es vocal------\")\n"
   ]
  },
  {
   "cell_type": "code",
   "execution_count": null,
   "metadata": {},
   "outputs": [],
   "source": []
  }
 ],
 "metadata": {
  "kernelspec": {
   "display_name": "Python 3 (ipykernel)",
   "language": "python",
   "name": "python3"
  },
  "language_info": {
   "codemirror_mode": {
    "name": "ipython",
    "version": 3
   },
   "file_extension": ".py",
   "mimetype": "text/x-python",
   "name": "python",
   "nbconvert_exporter": "python",
   "pygments_lexer": "ipython3",
   "version": "3.8.12"
  }
 },
 "nbformat": 4,
 "nbformat_minor": 4
}
