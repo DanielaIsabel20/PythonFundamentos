{
 "cells": [
  {
   "cell_type": "code",
   "execution_count": 2,
   "id": "7e706d4b-ea2a-4d8d-a09b-0528cc124922",
   "metadata": {},
   "outputs": [],
   "source": [
    "import smtplib\n",
    "from email.mime.multipart import MIMEMultipart\n",
    "from email.mime.base import MIMEBase\n",
    "from email import encoders"
   ]
  },
  {
   "cell_type": "code",
   "execution_count": 9,
   "id": "bdb85484-83eb-41e3-9316-dea0837ba104",
   "metadata": {},
   "outputs": [],
   "source": [
    "# Datos del remitente\n",
    "remitente = \"gon_2794@hotmail.com\"\n",
    "password = open('password.txt').read().strip()\n",
    "\n",
    "# Datos del destinatario\n",
    "destinatario = \"adrian.aramburu@unmsm.edu.pe\"\n",
    "\n",
    "# Crear el mensaje\n",
    "mensaje = MIMEMultipart()\n",
    "mensaje[\"From\"] = remitente\n",
    "mensaje[\"To\"] = destinatario\n",
    "mensaje[\"Subject\"] = \"Correo Prueba\"\n",
    "\n",
    "# Adjuntar archivo\n",
    "archivo_adjunto = \"./bitcoin.csv\"  # Ruta y nombre del archivo a adjuntar\n",
    "\n",
    "# Leer el archivo en modo binario\n",
    "with open(archivo_adjunto, \"rb\") as archivo:\n",
    "    # Crear el objeto MIME base\n",
    "    adjunto = MIMEBase(\"application\", \"octet-stream\")\n",
    "    # Cargar el contenido del archivo\n",
    "    adjunto.set_payload(archivo.read())\n",
    "\n",
    "# Codificar el archivo adjunto en base64\n",
    "encoders.encode_base64(adjunto)\n",
    "\n",
    "# Establecer las cabeceras del archivo adjunto\n",
    "adjunto.add_header(\"Content-Disposition\", f\"attachment; filename= {archivo_adjunto}\")\n",
    "\n",
    "# Adjuntar el archivo al mensaje\n",
    "mensaje.attach(adjunto)\n",
    "\n",
    "# Configurar el servidor SMTP de Gmail\n",
    "smtp_server = \"smtp-mail.outlook.com\"\n",
    "smtp_port = 587\n",
    "with smtplib.SMTP(smtp_server, smtp_port) as server:\n",
    "    \n",
    "    server.starttls()\n",
    "    server.login(remitente, password)\n",
    "\n",
    "    # Enviar el correo electrónico\n",
    "    server.send_message(mensaje)"
   ]
  },
  {
   "cell_type": "code",
   "execution_count": null,
   "id": "2f9ce509-ad31-4df8-8ce0-14596fcb9745",
   "metadata": {},
   "outputs": [],
   "source": []
  }
 ],
 "metadata": {
  "kernelspec": {
   "display_name": "Python 3 (ipykernel)",
   "language": "python",
   "name": "python3"
  },
  "language_info": {
   "codemirror_mode": {
    "name": "ipython",
    "version": 3
   },
   "file_extension": ".py",
   "mimetype": "text/x-python",
   "name": "python",
   "nbconvert_exporter": "python",
   "pygments_lexer": "ipython3",
   "version": "3.10.9"
  }
 },
 "nbformat": 4,
 "nbformat_minor": 5
}
