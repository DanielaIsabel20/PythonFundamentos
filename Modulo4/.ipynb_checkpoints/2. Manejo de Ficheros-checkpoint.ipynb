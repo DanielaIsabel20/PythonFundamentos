{
 "cells": [
  {
   "cell_type": "markdown",
   "metadata": {},
   "source": [
    "# Manejo de Ficheros"
   ]
  },
  {
   "cell_type": "markdown",
   "metadata": {},
   "source": [
    "Python nos permite trabajar en dos niveles diferentes con respecto al sistema de archivos y directorios. Uno de ellos, es a través del módulo os, que como su nombre lo indica, nos facilita el trabajo con todo el sistema de archivos y directorios, a nivel del propios Sistema Operativo. El segundo nivel -más simple-, es el que nos permite trabajar con archivos, manipulando su lectura y escritura a nivel de la aplicación y tratando a cada archivo como un objeto.\n"
   ]
  },
  {
   "cell_type": "markdown",
   "metadata": {},
   "source": [
    "## Objeto File\n",
    "------------------------------"
   ]
  },
  {
   "cell_type": "markdown",
   "metadata": {},
   "source": [
    "Al igual que sucede con otras variables, manipular una de ellas como un objeto File, es posible, cuando a ésta, se le asigna como valor un archivo. \n",
    "Para asignar a una variable un valor de tipo file, solo es necesario recurrir a la función integrada open(), la cuál está destinada a la apertura de un archivo.\n",
    "\n",
    "- La función integrada open(), recibe dos parámetros: – El primero de ellos, es la ruta hacia el archivo que se desea abrir \n",
    "\n",
    "- Y el segundo, el modo en el cual abrirlo"
   ]
  },
  {
   "cell_type": "code",
   "execution_count": 1,
   "metadata": {},
   "outputs": [],
   "source": [
    "import os"
   ]
  },
  {
   "cell_type": "code",
   "execution_count": 2,
   "metadata": {},
   "outputs": [
    {
     "data": {
      "text/plain": [
       "'C:\\\\Users\\\\gon_2\\\\OneDrive - UNIVERSIDAD NACIONAL DE INGENIERIA\\\\Desktop\\\\PythonFundamentos\\\\Modulo4'"
      ]
     },
     "execution_count": 2,
     "metadata": {},
     "output_type": "execute_result"
    }
   ],
   "source": [
    "os.getcwd()"
   ]
  },
  {
   "cell_type": "code",
   "execution_count": 4,
   "metadata": {},
   "outputs": [
    {
     "name": "stdout",
     "output_type": "stream",
     "text": [
      "['Lorem ipsum dolor sit amet, consectetur adipiscing elit. Integer auctor sit amet mi non iaculis. Etiam auctor tincidunt est. Cras tempus, mi sit amet ultrices ornare, augue mi ullamcorper sem, sed faucibus mi metus pulvinar orci. Nulla ante purus, tristique vitae ante et, dignissim posuere erat. Nullam sed convallis diam. Pellentesque at finibus eros. Nunc et elit velit. Donec arcu enim, ullamcorper non velit ullamcorper, placerat gravida magna. Maecenas ullamcorper venenatis mollis.\\n']\n"
     ]
    }
   ],
   "source": [
    "# Forma 1 de apertura a partir del método with \n",
    "\n",
    "ruta = os.getcwd()\n",
    "\n",
    "'./src/texto.txt'\n",
    "file_path = os.path.join(ruta,'src','texto.txt')\n",
    "\n",
    "# con <mi archivo>, voy a leer o escribir o añadir con un nombre de variable 'f'\n",
    "with open(file_path,mode='r') as f:\n",
    "    data = f.readlines()\n",
    "    \n",
    "    print(data[::200])\n",
    "    \n",
    "# Archivo se cierra de forma automática"
   ]
  },
  {
   "cell_type": "code",
   "execution_count": 10,
   "metadata": {},
   "outputs": [
    {
     "name": "stdout",
     "output_type": "stream",
     "text": [
      "['Lorem ipsum dolor sit amet, consectetur adipiscing elit. Integer auctor sit amet mi non iaculis. Etiam auctor tincidunt est. Cras tempus, mi sit amet ultrices ornare, augue mi ullamcorper sem, sed faucibus mi metus pulvinar orci. Nulla ante purus, tristique vitae ante et, dignissim posuere erat. Nullam sed convallis diam. Pellentesque at finibus eros. Nunc et elit velit. Donec arcu enim, ullamcorper non velit ullamcorper, placerat gravida magna. Maecenas ullamcorper venenatis mollis.\\n']\n",
      "\n"
     ]
    }
   ],
   "source": [
    "# Forma 2 de apertura\n",
    "f = open('./src/texto.txt') # por defecto el modo de abrir el archivo es \"lectura\"\n",
    "\n",
    "data = f.readlines() # readlines -> permite leer todas las líneas del archivo, en forma de lista\n",
    "print(data[::200])\n",
    "\n",
    "print(f.read())\n",
    "\n",
    "f.close()\n"
   ]
  },
  {
   "cell_type": "code",
   "execution_count": 9,
   "metadata": {},
   "outputs": [
    {
     "data": {
      "text/plain": [
       "True"
      ]
     },
     "execution_count": 9,
     "metadata": {},
     "output_type": "execute_result"
    }
   ],
   "source": [
    "# Valido si archivo se encuentra efectivamente cerrado\n",
    "f.closed"
   ]
  },
  {
   "cell_type": "markdown",
   "metadata": {},
   "source": [
    "### Modos de Apertura"
   ]
  },
  {
   "cell_type": "markdown",
   "metadata": {},
   "source": [
    "Por defecto un archivo se apertura en modo **lectura (r)** pero en la práctica existen muchos más modos los cuales nos permitiran escribir (w) o modificar un archivo ya existente"
   ]
  },
  {
   "cell_type": "markdown",
   "metadata": {},
   "source": [
    "<img src='./img/modo_apertura.PNG'>"
   ]
  },
  {
   "cell_type": "markdown",
   "metadata": {},
   "source": [
    "<img src='./img/modo_apertura2.PNG'>"
   ]
  },
  {
   "cell_type": "markdown",
   "metadata": {},
   "source": [
    "### Métodos de Archivos"
   ]
  },
  {
   "cell_type": "markdown",
   "metadata": {},
   "source": [
    "El objeto file, entre sus métodos más frecuentes, dispone de los siguientes"
   ]
  },
  {
   "cell_type": "markdown",
   "metadata": {},
   "source": [
    "<img src='./img/metodos_files.PNG'>"
   ]
  },
  {
   "cell_type": "markdown",
   "metadata": {
    "tags": []
   },
   "source": [
    "## Lectura"
   ]
  },
  {
   "cell_type": "code",
   "execution_count": 11,
   "metadata": {},
   "outputs": [
    {
     "name": "stdout",
     "output_type": "stream",
     "text": [
      "Lorem ipsum dolor sit amet, consectetur adipiscing elit. Integer auctor sit amet mi non iaculis. Etiam auctor tincidunt est. Cras tempus, mi sit amet ultrices ornare, augue mi ullamcorper sem, sed faucibus mi metus pulvinar orci. Nulla ante purus, tristique vitae ante et, dignissim posuere erat. Nullam sed convallis diam. Pellentesque at finibus eros. Nunc et elit velit. Donec arcu enim, ullamcorper non velit ullamcorper, placerat gravida magna. Maecenas ullamcorper venenatis mollis.\n",
      "\n",
      "Sed justo ex, tempus vitae urna sit amet, pharetra porttitor tortor. Vivamus pharetra consequat turpis, vel vestibulum purus imperdiet ac. Fusce eget turpis sem. Mauris mi turpis, lobortis at iaculis a, ornare at sem. Aliquam nibh est, feugiat non massa in, fringilla aliquet nibh. Praesent scelerisque arcu in libero lobortis convallis. Sed facilisis ante eget enim malesuada, a vestibulum eros ullamcorper. Nam sagittis pharetra porta. Praesent non euismod justo. Morbi euismod convallis eros, pellentesque ornare magna mattis ac. Nunc suscipit orci at magna hendrerit varius. Sed elementum, arcu sodales egestas tempus, nunc ante sollicitudin arcu, ut mollis tellus arcu in odio. Donec consequat, ex ut blandit dignissim, augue lacus mattis ligula, vel condimentum sem sem sit amet ante. Nulla malesuada nibh enim, nec vulputate orci aliquet vel. Morbi ut nunc nunc. Quisque finibus neque volutpat ligula scelerisque, nec vestibulum justo efficitur.\n",
      "\n",
      "Praesent malesuada a nisl nec pretium. In lobortis ipsum vitae metus semper, eu egestas eros dapibus. Integer ornare, neque scelerisque convallis placerat, arcu risus rutrum augue, et bibendum tortor ipsum et augue. Pellentesque condimentum nec risus at suscipit. Donec fringilla sem nibh, id porta justo consectetur in. Nulla elementum at purus ac venenatis. Vestibulum vitae mollis ligula.\n",
      "\n",
      "Morbi eu turpis at orci dictum faucibus in a dolor. Etiam vitae risus nibh. Nunc a lorem aliquam, convallis turpis sit amet, interdum erat. Nunc ac nunc ante. Sed a metus id neque sollicitudin mattis eget id libero. Maecenas in metus lacinia, viverra metus quis, bibendum dui. Etiam ac purus posuere, finibus tellus quis, posuere lorem. Cras accumsan porta lacus in imperdiet. Nunc et efficitur nulla. Integer et porttitor elit, ut semper massa. Aenean convallis non tortor a feugiat. Proin condimentum odio et vehicula interdum. Pellentesque quis elit efficitur enim facilisis ultrices. Curabitur est lacus, commodo sed arcu vel, molestie tincidunt ex.\n",
      "\n",
      "Class aptent taciti sociosqu ad litora torquent per conubia nostra, per inceptos himenaeos. Nam et placerat augue. Vivamus eget vestibulum felis. Suspendisse potenti. Integer vitae accumsan ipsum. Pellentesque ultrices at arcu eu mollis. In aliquet sem nec erat ullamcorper accumsan. Donec ac scelerisque orci, rutrum luctus tellus.\n"
     ]
    }
   ],
   "source": [
    "# Ruta donde leeremos el fichero, r indica lectura (por defecto ya es r)\n",
    "fichero = open('./src/texto.txt','r')  \n",
    "\n",
    "# Lectura completa\n",
    "texto = fichero.read() #  read -> Metodo que permite la lectura de todo el archivo\n",
    "\n",
    "# Cerramos el fichero\n",
    "fichero.close()  \n",
    "\n",
    "print(texto)"
   ]
  },
  {
   "cell_type": "code",
   "execution_count": null,
   "metadata": {},
   "outputs": [],
   "source": []
  },
  {
   "cell_type": "markdown",
   "metadata": {},
   "source": [
    "También se puede leer un fichero utilizando la instrucción estándar with de la siguiente forma:"
   ]
  },
  {
   "cell_type": "code",
   "execution_count": null,
   "metadata": {},
   "outputs": [],
   "source": [
    "with open('./src/texto.txt', \"r\") as fichero:\n",
    "    data = fichero.read()\n",
    "    pass # cierro archivo\n",
    "print(data)"
   ]
  },
  {
   "cell_type": "code",
   "execution_count": null,
   "metadata": {},
   "outputs": [],
   "source": []
  },
  {
   "cell_type": "code",
   "execution_count": null,
   "metadata": {},
   "outputs": [],
   "source": []
  },
  {
   "cell_type": "code",
   "execution_count": null,
   "metadata": {},
   "outputs": [],
   "source": []
  },
  {
   "cell_type": "code",
   "execution_count": 13,
   "metadata": {},
   "outputs": [
    {
     "name": "stdout",
     "output_type": "stream",
     "text": [
      "Lorem ipsum dolor sit amet, consectetur adipiscing elit. Integer auctor sit amet mi non iaculis. Etiam auctor tincidunt est. Cras tempus, mi sit amet ultrices ornare, augue mi ullamcorper sem, sed faucibus mi metus pulvinar orci. Nulla ante purus, tristique vitae ante et, dignissim posuere erat. Nullam sed convallis diam. Pellentesque at finibus eros. Nunc et elit velit. Donec arcu enim, ullamcorper non velit ullamcorper, placerat gravida magna. Maecenas ullamcorper venenatis mollis.\n",
      "\n",
      "\n",
      "\n",
      "Sed justo ex, tempus vitae urna sit amet, pharetra porttitor tortor. Vivamus pharetra consequat turpis, vel vestibulum purus imperdiet ac. Fusce eget turpis sem. Mauris mi turpis, lobortis at iaculis a, ornare at sem. Aliquam nibh est, feugiat non massa in, fringilla aliquet nibh. Praesent scelerisque arcu in libero lobortis convallis. Sed facilisis ante eget enim malesuada, a vestibulum eros ullamcorper. Nam sagittis pharetra porta. Praesent non euismod justo. Morbi euismod convallis eros, pellentesque ornare magna mattis ac. Nunc suscipit orci at magna hendrerit varius. Sed elementum, arcu sodales egestas tempus, nunc ante sollicitudin arcu, ut mollis tellus arcu in odio. Donec consequat, ex ut blandit dignissim, augue lacus mattis ligula, vel condimentum sem sem sit amet ante. Nulla malesuada nibh enim, nec vulputate orci aliquet vel. Morbi ut nunc nunc. Quisque finibus neque volutpat ligula scelerisque, nec vestibulum justo efficitur.\n",
      "\n",
      "\n",
      "\n",
      "Praesent malesuada a nisl nec pretium. In lobortis ipsum vitae metus semper, eu egestas eros dapibus. Integer ornare, neque scelerisque convallis placerat, arcu risus rutrum augue, et bibendum tortor ipsum et augue. Pellentesque condimentum nec risus at suscipit. Donec fringilla sem nibh, id porta justo consectetur in. Nulla elementum at purus ac venenatis. Vestibulum vitae mollis ligula.\n",
      "\n",
      "\n",
      "\n",
      "Morbi eu turpis at orci dictum faucibus in a dolor. Etiam vitae risus nibh. Nunc a lorem aliquam, convallis turpis sit amet, interdum erat. Nunc ac nunc ante. Sed a metus id neque sollicitudin mattis eget id libero. Maecenas in metus lacinia, viverra metus quis, bibendum dui. Etiam ac purus posuere, finibus tellus quis, posuere lorem. Cras accumsan porta lacus in imperdiet. Nunc et efficitur nulla. Integer et porttitor elit, ut semper massa. Aenean convallis non tortor a feugiat. Proin condimentum odio et vehicula interdum. Pellentesque quis elit efficitur enim facilisis ultrices. Curabitur est lacus, commodo sed arcu vel, molestie tincidunt ex.\n",
      "\n",
      "\n",
      "\n",
      "Class aptent taciti sociosqu ad litora torquent per conubia nostra, per inceptos himenaeos. Nam et placerat augue. Vivamus eget vestibulum felis. Suspendisse potenti. Integer vitae accumsan ipsum. Pellentesque ultrices at arcu eu mollis. In aliquet sem nec erat ullamcorper accumsan. Donec ac scelerisque orci, rutrum luctus tellus.\n"
     ]
    }
   ],
   "source": [
    "with open('./src/texto.txt', \"r\") as fichero:\n",
    "    for linea in fichero:\n",
    "        #lectura en streaming\n",
    "        print(linea)\n",
    "        \n",
    "    pass# cierro archivo"
   ]
  },
  {
   "cell_type": "markdown",
   "metadata": {},
   "source": [
    "## Escritura"
   ]
  },
  {
   "cell_type": "code",
   "execution_count": 14,
   "metadata": {},
   "outputs": [
    {
     "name": "stdout",
     "output_type": "stream",
     "text": [
      "Una línea con texto\n",
      "Otra línea con texto\n"
     ]
    }
   ],
   "source": [
    "texto = \"Una línea con texto\\nOtra línea con texto\"\n",
    "\n",
    "print(texto)"
   ]
  },
  {
   "cell_type": "code",
   "execution_count": 15,
   "metadata": {},
   "outputs": [],
   "source": [
    "texto = \"Una línea con texto\\nOtra línea con texto\"\n",
    "\n",
    "# Ruta donde crearemos el fichero, w indica escritura (puntero al principio)\n",
    "# De existir el archivo, este será eliminado y creado uno nuevo \n",
    "with open('./src/fichero.txt','w') as f:\n",
    "    # Escribimos el texto\n",
    "    f.write(texto)"
   ]
  },
  {
   "cell_type": "code",
   "execution_count": 19,
   "metadata": {},
   "outputs": [],
   "source": [
    "with open('./src/fichero.txt','r') as f:\n",
    "    # Escribimos el texto\n",
    "    data = f.readlines()"
   ]
  },
  {
   "cell_type": "code",
   "execution_count": 20,
   "metadata": {},
   "outputs": [
    {
     "data": {
      "text/plain": [
       "['Una línea con texto\\n', 'Otra línea con texto\\n', 'más lineas']"
      ]
     },
     "execution_count": 20,
     "metadata": {},
     "output_type": "execute_result"
    }
   ],
   "source": [
    "data"
   ]
  },
  {
   "cell_type": "markdown",
   "metadata": {},
   "source": [
    "Este modo nos permite añadir datos al final de un fichero:"
   ]
  },
  {
   "cell_type": "code",
   "execution_count": 18,
   "metadata": {},
   "outputs": [],
   "source": [
    "# Ruta donde leeremos el fichero, a indica extensión (puntero al final)\n",
    "with open('./src/fichero.txt','a') as f:\n",
    "    f.write('\\nmás lineas')"
   ]
  },
  {
   "cell_type": "markdown",
   "metadata": {},
   "source": [
    "La variante 'a+' permite crear el fichero si no existe:"
   ]
  },
  {
   "cell_type": "code",
   "execution_count": null,
   "metadata": {},
   "outputs": [],
   "source": [
    "# Ruta archivo del tipo a+\n",
    "with open('./src/fichero_inventado.txt','a+') as f:\n",
    "    f.write('\\nhola mundo')\n",
    "    pass"
   ]
  },
  {
   "cell_type": "markdown",
   "metadata": {
    "tags": []
   },
   "source": [
    "## Lectura con escritura"
   ]
  },
  {
   "cell_type": "markdown",
   "metadata": {},
   "source": [
    "Se puede abrir un fichero en modo lectura con escritura, pero éste debe existir préviamente. Además por defecto el puntero estará al principio y si escribimos algo sobreescribiremos el contenido actual, así que prestad atención a los saltos de línea y caracteres especiales:\n"
   ]
  },
  {
   "cell_type": "code",
   "execution_count": 22,
   "metadata": {},
   "outputs": [],
   "source": [
    "# Creamos un fichero de prueba con 4 líneas\n",
    "fichero = open('./src/fichero2.txt','w')\n",
    "texto = \"Línea 1\\nLínea 2\\nLínea 3\\nLínea 4\"\n",
    "fichero.write(texto)\n",
    "fichero.close()"
   ]
  },
  {
   "cell_type": "code",
   "execution_count": 25,
   "metadata": {},
   "outputs": [
    {
     "data": {
      "text/plain": [
       "5"
      ]
     },
     "execution_count": 25,
     "metadata": {},
     "output_type": "execute_result"
    }
   ],
   "source": [
    "# Lo abrimos en lectura con escritura y escribimos algo\n",
    "fichero = open('./src/fichero2.txt','r+')\n",
    "fichero.write(\"01234\")\n"
   ]
  },
  {
   "cell_type": "code",
   "execution_count": 24,
   "metadata": {},
   "outputs": [],
   "source": [
    "fichero.close()"
   ]
  },
  {
   "cell_type": "code",
   "execution_count": 27,
   "metadata": {},
   "outputs": [
    {
     "name": "stdout",
     "output_type": "stream",
     "text": [
      "01234 1\n",
      "Línea 2\n",
      "Línea 3\n",
      "Línea 4\n"
     ]
    }
   ],
   "source": [
    "\n",
    "fichero.seek(0) # Volvemos a ponter el puntero al inicio y leemos hasta el final\n",
    "l = fichero.read()\n",
    "print(l)\n",
    "fichero.close()"
   ]
  },
  {
   "cell_type": "markdown",
   "metadata": {},
   "source": [
    "### Modificar una línea"
   ]
  },
  {
   "cell_type": "markdown",
   "metadata": {},
   "source": [
    "Para lograr este fin lo mejor es leer todas las líneas en una lista, modificar la línea en la lista, posicionar el puntero al principio y reescribir de nuevo todas las líneas:\n"
   ]
  },
  {
   "cell_type": "code",
   "execution_count": 28,
   "metadata": {},
   "outputs": [
    {
     "data": {
      "text/plain": [
       "['01234 1\\n', 'Línea 2\\n', 'Línea 3\\n', 'Línea 4']"
      ]
     },
     "execution_count": 28,
     "metadata": {},
     "output_type": "execute_result"
    }
   ],
   "source": [
    "fichero = open('./src/fichero2.txt','r+')\n",
    "texto = fichero.readlines()\n",
    "\n",
    "texto"
   ]
  },
  {
   "cell_type": "code",
   "execution_count": 29,
   "metadata": {},
   "outputs": [
    {
     "name": "stdout",
     "output_type": "stream",
     "text": [
      "01234 1\n",
      "Línea 2\n",
      "Esta es la línea 3 modificada\n",
      "Línea 4\n"
     ]
    }
   ],
   "source": [
    "# Modificamos la línea que queramos a partir del índice\n",
    "texto[2] = \"Esta es la línea 3 modificada\\n\"\n",
    "\n",
    "# Volvemos a ponter el puntero al inicio y reescribimos\n",
    "fichero.seek(0)\n",
    "fichero.writelines(texto)\n",
    "fichero.close()\n",
    "\n",
    "# Leemos el fichero de nuevo\n",
    "with open(\"./src/fichero2.txt\", \"r\") as fichero:\n",
    "    print(fichero.read())"
   ]
  },
  {
   "cell_type": "code",
   "execution_count": 30,
   "metadata": {},
   "outputs": [],
   "source": [
    "texto = 'hola mira mi nuevo auto, es un auto rojo'"
   ]
  },
  {
   "cell_type": "code",
   "execution_count": 31,
   "metadata": {},
   "outputs": [
    {
     "data": {
      "text/plain": [
       "40"
      ]
     },
     "execution_count": 31,
     "metadata": {},
     "output_type": "execute_result"
    }
   ],
   "source": [
    "open(\"./src/fichero3.txt\", 'w').write(texto)"
   ]
  },
  {
   "cell_type": "code",
   "execution_count": 33,
   "metadata": {},
   "outputs": [],
   "source": [
    "# leo la info para modificarla\n",
    "data = open(\"./src/fichero3.txt\", 'r').read()"
   ]
  },
  {
   "cell_type": "code",
   "execution_count": 36,
   "metadata": {},
   "outputs": [],
   "source": [
    "data_modificada = data.replace('auto', 'casa')"
   ]
  },
  {
   "cell_type": "code",
   "execution_count": 37,
   "metadata": {},
   "outputs": [
    {
     "data": {
      "text/plain": [
       "40"
      ]
     },
     "execution_count": 37,
     "metadata": {},
     "output_type": "execute_result"
    }
   ],
   "source": [
    "open(\"./src/fichero3.txt\", 'w').write(data_modificada)"
   ]
  },
  {
   "cell_type": "code",
   "execution_count": null,
   "metadata": {},
   "outputs": [],
   "source": []
  },
  {
   "cell_type": "code",
   "execution_count": null,
   "metadata": {},
   "outputs": [],
   "source": []
  },
  {
   "cell_type": "markdown",
   "metadata": {},
   "source": [
    "### <a href='https://docs.python.org/2.4/lib/standard-encodings.html'>Encoding</a>"
   ]
  },
  {
   "cell_type": "markdown",
   "metadata": {},
   "source": [
    "**encoding** es el nombre de la codificación utilizada para decodificar o codificar el archivo. Esto solo debe usarse en modo texto. La codificación predeterminada es dependiente de la plataforma, pero cualquier codificación compatible con Python se puede utilizar."
   ]
  },
  {
   "cell_type": "markdown",
   "metadata": {},
   "source": [
    "Más conocidos:\n",
    "\n",
    "- utf-8\n",
    "- latin1\n",
    "- ascii\n"
   ]
  },
  {
   "cell_type": "markdown",
   "metadata": {},
   "source": [
    "#### Lectura sin encoding con texto español\n",
    "\n",
    "\n"
   ]
  },
  {
   "cell_type": "code",
   "execution_count": 38,
   "metadata": {},
   "outputs": [
    {
     "name": "stdout",
     "output_type": "stream",
     "text": [
      "Este es un archivo escrito en espaÃ±ol\n"
     ]
    }
   ],
   "source": [
    "with open('./src/fichero_esp.txt','r') as f:\n",
    "    texto = f.read()\n",
    "    print(texto)"
   ]
  },
  {
   "cell_type": "markdown",
   "metadata": {},
   "source": [
    "#### Lectura con encoding utf-8"
   ]
  },
  {
   "cell_type": "code",
   "execution_count": 39,
   "metadata": {},
   "outputs": [
    {
     "name": "stdout",
     "output_type": "stream",
     "text": [
      "Este es un archivo escrito en español\n"
     ]
    }
   ],
   "source": [
    "with open('./src/fichero_esp.txt',encoding='utf-8') as f:\n",
    "    texto = f.read()\n",
    "    print(texto)"
   ]
  },
  {
   "cell_type": "markdown",
   "metadata": {},
   "source": [
    "# EJERCICIOS\n",
    "----------------------------"
   ]
  },
  {
   "cell_type": "markdown",
   "metadata": {},
   "source": [
    "<h3>1.</h3>\n",
    "\n",
    "En este ejercicio deberás crear un script llamado <code>personas.py</code> que lea los datos de un fichero de texto, que transforme cada fila en un diccionario y lo añada a una lista llamada personas. Luego rocorre las personas de la lista y para cada una muestra de forma amigable todos sus campos.\n",
    "\n",
    "El fichero de texto se denominará <code>personas.txt</code> y tendrá el siguiente contenido en texto plano (créalo previamente):"
   ]
  },
  {
   "cell_type": "markdown",
   "metadata": {},
   "source": [
    "<code>1;Carlos;Pérez;05/01/1989\n",
    "2;Manuel;Heredia;26/12/1973\n",
    "3;Rosa;Campos;12/06/1961\n",
    "4;David;García;25/07/2006</code>"
   ]
  },
  {
   "cell_type": "code",
   "execution_count": null,
   "metadata": {},
   "outputs": [],
   "source": []
  },
  {
   "cell_type": "code",
   "execution_count": null,
   "metadata": {},
   "outputs": [],
   "source": []
  }
 ],
 "metadata": {
  "kernelspec": {
   "display_name": "Python 3 (ipykernel)",
   "language": "python",
   "name": "python3"
  },
  "language_info": {
   "codemirror_mode": {
    "name": "ipython",
    "version": 3
   },
   "file_extension": ".py",
   "mimetype": "text/x-python",
   "name": "python",
   "nbconvert_exporter": "python",
   "pygments_lexer": "ipython3",
   "version": "3.8.12"
  }
 },
 "nbformat": 4,
 "nbformat_minor": 4
}
