{
 "cells": [
  {
   "cell_type": "markdown",
   "metadata": {
    "tags": []
   },
   "source": [
    "# Principales Librerias en Python\n",
    "----------------------------------------------------"
   ]
  },
  {
   "cell_type": "markdown",
   "metadata": {},
   "source": [
    "En esta sección conoceremos algunas librerias con las que cuenta python las cuales nos ayudarán en ciertas operaciones"
   ]
  },
  {
   "cell_type": "markdown",
   "metadata": {},
   "source": [
    "## 1. Libreria Random\n",
    "-----------------------------\n",
    "\n",
    "Este módulo contiene funciones para generar números aleatorios:\n",
    "\n",
    "Puede ver más ejemplos en el siguiente [link](https://www.geeksforgeeks.org/python-random-module/#:~:text=Python%20Random%20module%20is%20an,a%20list%20or%20string%2C%20etc.)"
   ]
  },
  {
   "cell_type": "code",
   "execution_count": null,
   "metadata": {},
   "outputs": [],
   "source": [
    "import random\n",
    "\n",
    "# Flotante aleatorio >= 0 y < 1.0\n",
    "print(random.random())"
   ]
  },
  {
   "cell_type": "code",
   "execution_count": null,
   "metadata": {},
   "outputs": [],
   "source": [
    "# Flotante aleatorio >= 1 y <10.0       \n",
    "print(random.uniform(1,10))\n",
    "\n",
    "# si quisieramos nros enteros en un rango de >=a y <=b\n",
    "print(random.randint(1,100))"
   ]
  },
  {
   "cell_type": "code",
   "execution_count": null,
   "metadata": {},
   "outputs": [],
   "source": [
    "# Selección de un elemento de conjunto de elementos\n",
    "lista_valores = [1,2,3,4, 'hola', 'x']\n",
    "\n",
    "print(random.choice(lista_valores))"
   ]
  },
  {
   "cell_type": "markdown",
   "metadata": {},
   "source": []
  },
  {
   "cell_type": "markdown",
   "metadata": {
    "tags": []
   },
   "source": [
    "## 2. Manipulación de Directorios\n",
    "---------------------------"
   ]
  },
  {
   "cell_type": "markdown",
   "metadata": {},
   "source": [
    "El módulo <code>os</code> nos permite tener un control sobre normbre de archivos y directorios del sistema operativo.\n"
   ]
  },
  {
   "cell_type": "code",
   "execution_count": null,
   "metadata": {},
   "outputs": [],
   "source": [
    "import os       # Nos permite manipular el sistema operativo\n",
    "import shutil   # Nos permite copiar y mover archivos"
   ]
  },
  {
   "cell_type": "code",
   "execution_count": null,
   "metadata": {},
   "outputs": [],
   "source": [
    "# Ruta de Trabajo actual : Es aquella donde realizamos el trabajo actual\n",
    "\n",
    "print( os.getcwd() )\n"
   ]
  },
  {
   "cell_type": "markdown",
   "metadata": {},
   "source": [
    "### Rutas Absolutas y Rutas Relativas\n",
    "\n",
    "- Ruta Absoluta: Aquella que inicia desde el directorio raiz\n",
    "- Ruta Relativa: Hace referencia a la posición relativa del directorio de trabajo actual\n"
   ]
  },
  {
   "cell_type": "markdown",
   "metadata": {},
   "source": [
    "<img src=\"./img/automating/relative_absolute_path.jpg\">"
   ]
  },
  {
   "cell_type": "code",
   "execution_count": null,
   "metadata": {},
   "outputs": [],
   "source": [
    "# obteniendo ruta absoluta de ruta\n",
    "\n",
    "os.path.abspath('./img')"
   ]
  },
  {
   "cell_type": "code",
   "execution_count": null,
   "metadata": {},
   "outputs": [],
   "source": [
    "# '.' referencia a directorio actual\n",
    "'./scripts'\n",
    "\n",
    "# '..' retrocedo una carpeta y busco la carpeta 'modulo2'\n",
    "'../modulo2'"
   ]
  },
  {
   "cell_type": "markdown",
   "metadata": {},
   "source": [
    "### Validando Existencia de Directorio o File"
   ]
  },
  {
   "cell_type": "code",
   "execution_count": null,
   "metadata": {},
   "outputs": [],
   "source": [
    "# Validando existencia de directorio\n",
    "\n",
    "print( os.path.exists('C:\\\\Windows') )\n",
    "\n",
    "# Comprobando si ruta es directorio\n",
    "print( os.path.isdir('C:\\\\Windows\\\\System32') )\n",
    "\n",
    "print( os.path.isdir('./scripts') )\n",
    "\n",
    "# Comprobando si ruta es file\n",
    "print( os.path.isfile('./texto.txt'))"
   ]
  },
  {
   "cell_type": "markdown",
   "metadata": {},
   "source": [
    "### Otros Métodos de OS"
   ]
  },
  {
   "cell_type": "code",
   "execution_count": null,
   "metadata": {},
   "outputs": [],
   "source": [
    "# Lista elementos del directorio\n",
    "os.listdir('./Ejercicios')\n",
    "\n",
    "# print(os.listdir())"
   ]
  },
  {
   "cell_type": "code",
   "execution_count": null,
   "metadata": {},
   "outputs": [],
   "source": [
    "# chdir -> cambiar la posición sobre la que se encuentra python\n",
    "os.chdir('./scripts/2.demos_files')\n",
    "\n",
    "print(os.getcwd())"
   ]
  },
  {
   "cell_type": "markdown",
   "metadata": {
    "tags": []
   },
   "source": [
    "### Métodos de Copiado de Archivos (shutil)"
   ]
  },
  {
   "cell_type": "code",
   "execution_count": null,
   "metadata": {},
   "outputs": [],
   "source": [
    "if not os.path.isdir('./scripts'): \n",
    "    os.mkdir('./scripts') # mkdir -> crea una carpeta en una ruta dada\n",
    "    os.mkdir('./scripts/2.demos_files')\n",
    "    "
   ]
  },
  {
   "cell_type": "code",
   "execution_count": null,
   "metadata": {},
   "outputs": [],
   "source": []
  },
  {
   "cell_type": "code",
   "execution_count": null,
   "metadata": {},
   "outputs": [],
   "source": [
    "# Copiando archivos de un directorio a una partera\n",
    "shutil.copy(r'./src/cat.jpg', r'./dts/cat_2.jpg')\n",
    "\n",
    "# shutil.move()"
   ]
  },
  {
   "cell_type": "code",
   "execution_count": null,
   "metadata": {},
   "outputs": [],
   "source": [
    "os.listdir('./src')"
   ]
  },
  {
   "cell_type": "code",
   "execution_count": null,
   "metadata": {},
   "outputs": [],
   "source": [
    "for file in os.listdir('./src'):\n",
    "    # valido que sea archivo y termine en extensión .txt\n",
    "    if os.path.isfile(f'./src/{file}') and file.endswith('.txt'):\n",
    "        file_name, ext = file.split('.')\n",
    "        shutil.copy(f'./src/{file}', f'./dts/{file_name}_copy.{ext}')\n",
    "    "
   ]
  },
  {
   "cell_type": "code",
   "execution_count": null,
   "metadata": {},
   "outputs": [],
   "source": []
  },
  {
   "cell_type": "code",
   "execution_count": null,
   "metadata": {},
   "outputs": [],
   "source": []
  },
  {
   "cell_type": "markdown",
   "metadata": {},
   "source": [
    "## 3. Manipulando Elementos Web\n",
    "----------------------\n",
    "\n",
    "**Requests es una librería Python que facilita enormemente el trabajo con peticiones HTTP**. Antes o después, en algún proyecto, es posible que tengas que hacer peticiones web, ya sea para consumir un API, extraer información de una página o enviar el contenido de un formulario de manera automatizada. Si es así, Python requests es tu gran aliada."
   ]
  },
  {
   "cell_type": "markdown",
   "metadata": {},
   "source": [
    "<center>\n",
    "    <img src='./img/automating/web.png' width=\"500\" height=\"600\">\n",
    "</center>"
   ]
  },
  {
   "cell_type": "code",
   "execution_count": 1,
   "metadata": {},
   "outputs": [
    {
     "name": "stdout",
     "output_type": "stream",
     "text": [
      "Requirement already satisfied: requests in c:\\users\\gonzalo\\anaconda3\\lib\\site-packages (2.28.1)\n",
      "Collecting requests\n",
      "  Downloading requests-2.31.0-py3-none-any.whl (62 kB)\n",
      "     -------------------------------------- 62.6/62.6 kB 844.1 kB/s eta 0:00:00\n",
      "Requirement already satisfied: urllib3<3,>=1.21.1 in c:\\users\\gonzalo\\anaconda3\\lib\\site-packages (from requests) (1.26.14)\n",
      "Requirement already satisfied: idna<4,>=2.5 in c:\\users\\gonzalo\\anaconda3\\lib\\site-packages (from requests) (3.4)\n",
      "Requirement already satisfied: certifi>=2017.4.17 in c:\\users\\gonzalo\\anaconda3\\lib\\site-packages (from requests) (2022.12.7)\n",
      "Requirement already satisfied: charset-normalizer<4,>=2 in c:\\users\\gonzalo\\anaconda3\\lib\\site-packages (from requests) (2.0.4)\n",
      "Installing collected packages: requests\n",
      "  Attempting uninstall: requests\n",
      "    Found existing installation: requests 2.28.1\n",
      "    Uninstalling requests-2.28.1:\n",
      "      Successfully uninstalled requests-2.28.1\n",
      "Successfully installed requests-2.31.0\n"
     ]
    },
    {
     "name": "stderr",
     "output_type": "stream",
     "text": [
      "ERROR: pip's dependency resolver does not currently take into account all the packages that are installed. This behaviour is the source of the following dependency conflicts.\n",
      "conda-repo-cli 1.0.27 requires clyent==1.2.1, but you have clyent 1.2.2 which is incompatible.\n",
      "conda-repo-cli 1.0.27 requires nbformat==5.4.0, but you have nbformat 5.7.0 which is incompatible.\n",
      "conda-repo-cli 1.0.27 requires requests==2.28.1, but you have requests 2.31.0 which is incompatible.\n"
     ]
    }
   ],
   "source": [
    "# instalando libreria\n",
    "!pip install requests --upgrade"
   ]
  },
  {
   "cell_type": "markdown",
   "metadata": {
    "jp-MarkdownHeadingCollapsed": true,
    "tags": []
   },
   "source": [
    "### 3.1 Web Scraping\n",
    "\n",
    "Conjunto de técnicas que permitirán la obtención de datos de una página web\n",
    "\n",
    "<img src='https://miro.medium.com/max/1200/1*kfOsUxggG5wDbDcxgC0Uwg.png'>"
   ]
  },
  {
   "cell_type": "code",
   "execution_count": 2,
   "metadata": {},
   "outputs": [
    {
     "name": "stdout",
     "output_type": "stream",
     "text": [
      "Requirement already satisfied: lxml in c:\\users\\gonzalo\\anaconda3\\lib\\site-packages (4.9.1)\n"
     ]
    }
   ],
   "source": [
    "# libreria que permitirá la obtención de datos web\n",
    "!pip install lxml"
   ]
  },
  {
   "cell_type": "code",
   "execution_count": 3,
   "metadata": {},
   "outputs": [],
   "source": [
    "import requests # me sirve para conectarme al sitio web\n",
    "from lxml import html # para extraer texto o navegar por el arbol html"
   ]
  },
  {
   "cell_type": "code",
   "execution_count": 4,
   "metadata": {},
   "outputs": [
    {
     "name": "stdout",
     "output_type": "stream",
     "text": [
      "\n",
      "\n",
      "English\n",
      "6 668 000+ articles\n",
      "\n",
      "\n",
      "\n",
      "\n",
      "æ¥æ¬èª\n",
      "1 376 000+ è¨äº\n",
      "\n",
      "\n",
      "\n",
      "\n",
      "EspaÃ±ol\n",
      "1 869 000+ artÃ­culos\n",
      "\n",
      "\n",
      "\n",
      "\n",
      "Ð ÑÑÑÐºÐ¸Ð¹\n",
      "1 921 000+ ÑÑÐ°ÑÐµÐ¹\n",
      "\n",
      "\n",
      "\n",
      "\n",
      "Deutsch\n",
      "2 808 000+ Artikel\n",
      "\n",
      "\n",
      "\n",
      "\n",
      "FranÃ§ais\n",
      "2 528 000+ articles\n",
      "\n",
      "\n",
      "\n",
      "\n",
      "Italiano\n",
      "1 814 000+ voci\n",
      "\n",
      "\n",
      "\n",
      "\n",
      "ä¸­æ\n",
      "1 360 000+ æ¡ç® / æ¢ç®\n",
      "\n",
      "\n",
      "\n",
      "\n",
      "ÙØ§Ø±Ø³Û\n",
      "965 000+ Ù\n",
      "ÙØ§ÙÙ\n",
      "\n",
      "\n",
      "\n",
      "\n",
      "PortuguÃªs\n",
      "1 103 000+ artigos\n",
      "\n",
      "\n"
     ]
    }
   ],
   "source": [
    "url = 'https://www.wikipedia.org/'\n",
    "\n",
    "# REQUERIMIENTO AL SERVIDOR\n",
    "respuesta = requests.get(url)\n",
    "\n",
    "# PARSEO DEL ARBOL HTML QUE RECIBO COMO RESPUESTA CON LXML\n",
    "parser = html.fromstring(respuesta.text)\n",
    "\n",
    "\n",
    "# EXTRACCION DE TODOS LOS IDIOMAS POR CLASE\n",
    "idiomas = parser.find_class('central-featured-lang')\n",
    "\n",
    "for idioma in idiomas:\n",
    "    print(idioma.text_content())"
   ]
  },
  {
   "cell_type": "markdown",
   "metadata": {},
   "source": [
    "### 3.2 Introducción al uso de APIs\n",
    "\n",
    "- Muchos sitios web, generan sus propias APIs a manera de facilitar la comunicación con diversos sistemas de información\n",
    "- A diferencia del web scraping convencional, las APIs son mucho más faciles de utilizar\n",
    "- Comunmente se utilizá el formato JSON como formato de intercambio de datos\n",
    "\n",
    "\n",
    "\n",
    "<center>\n",
    "\n",
    "  <img src='https://encrypted-tbn0.gstatic.com/images?q=tbn:ANd9GcSwTt3CMQQ7JigO6qys2jwVBEToNZahbZL5AA&usqp=CAU' width=\"500\" height=\"600\">\n",
    "\n",
    "</center>"
   ]
  },
  {
   "cell_type": "markdown",
   "metadata": {},
   "source": [
    "#### Json\n",
    "    \n",
    "JSON (JavaScript Object Notation) es un formato ligero de intercambio de datos. JSON es de fácil lectura y escritura para los usuarios\n",
    "\n",
    "- Parecido a un diccionario\n",
    "\n",
    "\n",
    "<img src='https://addons.mozilla.org/user-media/previews/full/29/29967.png?modified=1622132517'>\n"
   ]
  },
  {
   "cell_type": "code",
   "execution_count": null,
   "metadata": {},
   "outputs": [],
   "source": [
    "# https://www.youtube.com/watch?v=u2Ms34GE14U&list=RDCMUCP15FVAA2UL-QOcGhy7-ezA&start_radio=1&rv=u2Ms34GE14U&t=31&ab_channel=EDteam\n",
    "# https://www.youtube.com/watch?v=QsrWtqnQGMc&ab_channel=WebReactivabyDani"
   ]
  },
  {
   "cell_type": "code",
   "execution_count": 5,
   "metadata": {},
   "outputs": [
    {
     "data": {
      "text/plain": [
       "{'compra': 3.628,\n",
       " 'venta': 3.638,\n",
       " 'origen': 'SUNAT',\n",
       " 'moneda': 'USD',\n",
       " 'fecha': '2023-06-25'}"
      ]
     },
     "execution_count": 5,
     "metadata": {},
     "output_type": "execute_result"
    }
   ],
   "source": [
    "import requests\n",
    "\n",
    "url = 'https://api.apis.net.pe/v1/tipo-cambio-sunat' #tipo cambio sunat\n",
    "\n",
    "# https://apis.net.pe/api-tipo-cambio.html\n",
    "\n",
    "# 1. conectarme al sitio\n",
    "response = requests.get(url)\n",
    "\n",
    "response.json() # nos brinda la información en formato JSON"
   ]
  },
  {
   "cell_type": "code",
   "execution_count": 6,
   "metadata": {},
   "outputs": [
    {
     "name": "stdout",
     "output_type": "stream",
     "text": [
      "36.28\n",
      "36.379999999999995\n"
     ]
    }
   ],
   "source": [
    "# 2. Recupero la informacion como json\n",
    "data = response.json()\n",
    "\n",
    "# obteniendo tipo cambio\n",
    "\n",
    "# 3. Recupero valor tipo cambio - compra - venta\n",
    "dolar_compra = data['compra']\n",
    "dolar_venta = data['venta']\n",
    "\n",
    "print(dolar_compra * 10) # costo compra dolar\n",
    "print(dolar_venta * 10) # costo venta dolar"
   ]
  },
  {
   "cell_type": "markdown",
   "metadata": {},
   "source": [
    "#### Ejercicio:\n",
    "\n",
    "Utilice el siguiente API para obtener del clima para obtener los valores de temperatura en grados C y F, asi como los valores de temperatura y precipitación en la ciudad e lima.\n",
    "\n",
    "url = https://weatherdbi.herokuapp.com/data/weather/lima\n"
   ]
  },
  {
   "cell_type": "code",
   "execution_count": null,
   "metadata": {},
   "outputs": [],
   "source": [
    "# Obtener los datos de tipo de cambio de todo Enero 2023 https://apis.net.pe/api-tipo-cambio.html\n",
    "\n",
    "# Imprimir la información por fecha"
   ]
  },
  {
   "cell_type": "code",
   "execution_count": null,
   "metadata": {},
   "outputs": [],
   "source": []
  },
  {
   "cell_type": "markdown",
   "metadata": {},
   "source": [
    "#### 3.3 Descarga de Archivos Web\n",
    "\n",
    "Los archivos como imagenes o documentos publicados en sitios web es posible descargarlos mediante la libreria Requests"
   ]
  },
  {
   "cell_type": "code",
   "execution_count": 20,
   "metadata": {},
   "outputs": [],
   "source": [
    "# Ejemplo\n",
    "#-------------------\n",
    "\n",
    "\"\"\"\n",
    "Imaginemos que quisieramos obtener una imagen situada en el siguiente sitio web.\n",
    "\n",
    "https://es.wikipedia.org/wiki/Canis_familiaris\n",
    "\"\"\"\n",
    "import requests\n",
    "\n",
    "\n",
    "url = 'https://upload.wikimedia.org/wikipedia/commons/thumb/e/e3/Coat_types_3.jpg/250px-Coat_types_3.jpg'\n",
    "\n",
    "# url = 'https://www.sunat.gob.pe/descargaPRR/padron_reducido_local_anexo.zip'\n",
    "\n",
    "response = requests.get(url)\n",
    "\n",
    "with open('perritos.jpg', 'wb') as f:\n",
    "    f.write(response.content)\n",
    "    pass"
   ]
  },
  {
   "cell_type": "code",
   "execution_count": null,
   "metadata": {},
   "outputs": [],
   "source": []
  }
 ],
 "metadata": {
  "interpreter": {
   "hash": "60ed20e32fccb190e74c562e5b1355c75b8bbe60ad6a5cbb503de8aaff5a83ef"
  },
  "kernelspec": {
   "display_name": "Python 3 (ipykernel)",
   "language": "python",
   "name": "python3"
  },
  "language_info": {
   "codemirror_mode": {
    "name": "ipython",
    "version": 3
   },
   "file_extension": ".py",
   "mimetype": "text/x-python",
   "name": "python",
   "nbconvert_exporter": "python",
   "pygments_lexer": "ipython3",
   "version": "3.10.9"
  }
 },
 "nbformat": 4,
 "nbformat_minor": 4
}
