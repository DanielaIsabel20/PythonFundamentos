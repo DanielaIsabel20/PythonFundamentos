{
 "cells": [
  {
   "cell_type": "markdown",
   "metadata": {},
   "source": [
    "# Manejo de Ficheros"
   ]
  },
  {
   "cell_type": "markdown",
   "metadata": {},
   "source": [
    "Python nos permite trabajar en dos niveles diferentes con respecto al sistema de archivos y directorios. Uno de ellos, es a través del módulo os, que como su nombre lo indica, nos facilita el trabajo con todo el sistema de archivos y directorios, a nivel del propios Sistema Operativo. El segundo nivel -más simple-, es el que nos permite trabajar con archivos, manipulando su lectura y escritura a nivel de la aplicación y tratando a cada archivo como un objeto.\n"
   ]
  },
  {
   "cell_type": "code",
   "execution_count": 2,
   "metadata": {},
   "outputs": [],
   "source": [
    "a = '2' # las variables solo permacen durante la ejecución de un programa"
   ]
  },
  {
   "cell_type": "markdown",
   "metadata": {},
   "source": [
    "## Objeto File\n",
    "------------------------------"
   ]
  },
  {
   "cell_type": "markdown",
   "metadata": {},
   "source": [
    "Al igual que sucede con otras variables, manipular una de ellas como un objeto File, es posible, cuando a ésta, se le asigna como valor un archivo. \n",
    "Para asignar a una variable un valor de tipo file, solo es necesario recurrir a la función integrada open(), la cuál está destinada a la apertura de un archivo.\n",
    "\n",
    "- La función integrada open(), recibe dos parámetros: – El primero de ellos, es la ruta hacia el archivo que se desea abrir \n",
    "\n",
    "- Y el segundo, el modo en el cual abrirlo"
   ]
  },
  {
   "cell_type": "code",
   "execution_count": 3,
   "metadata": {},
   "outputs": [],
   "source": [
    "import os"
   ]
  },
  {
   "cell_type": "code",
   "execution_count": 4,
   "metadata": {},
   "outputs": [
    {
     "data": {
      "text/plain": [
       "'C:\\\\Users\\\\gon_2\\\\OneDrive - UNIVERSIDAD NACIONAL DE INGENIERIA\\\\Desktop\\\\PythonFundamentos\\\\Modulo4'"
      ]
     },
     "execution_count": 4,
     "metadata": {},
     "output_type": "execute_result"
    }
   ],
   "source": [
    "os.getcwd()"
   ]
  },
  {
   "cell_type": "code",
   "execution_count": 6,
   "metadata": {},
   "outputs": [
    {
     "name": "stdout",
     "output_type": "stream",
     "text": [
      "['dasdasdas']\n",
      "Done\n"
     ]
    }
   ],
   "source": [
    "# Forma 1 de apertura a partir del método with \n",
    "\n",
    "ruta = os.getcwd()\n",
    "\n",
    "file_path = os.path.join(ruta,'src','texto.txt')\n",
    "\n",
    "with open(file_path,mode='r') as f:\n",
    "    data = f.readlines()\n",
    "    \n",
    "    print(data[::200])\n",
    "    pass # Archivo se cierra de forma automática\n",
    "\n",
    "print('Done')"
   ]
  },
  {
   "cell_type": "code",
   "execution_count": 7,
   "metadata": {},
   "outputs": [
    {
     "name": "stdout",
     "output_type": "stream",
     "text": [
      "['dasdasdas']\n"
     ]
    }
   ],
   "source": [
    "# Forma 2 de apertura\n",
    "f = open('./src/texto.txt') # por defecto el modo de abrir el archivo es \"lectura\"\n",
    "\n",
    "data = f.readlines() # readlines -> permite leer todas las líneas del archivo, en forma de lista\n",
    "print(data[::200])\n",
    "f.close() # cierro archivo\n"
   ]
  },
  {
   "cell_type": "code",
   "execution_count": 8,
   "metadata": {},
   "outputs": [
    {
     "data": {
      "text/plain": [
       "True"
      ]
     },
     "execution_count": 8,
     "metadata": {},
     "output_type": "execute_result"
    }
   ],
   "source": [
    "# Valido si archivo se encuentra efectivamente cerrado\n",
    "f.closed"
   ]
  },
  {
   "cell_type": "markdown",
   "metadata": {},
   "source": [
    "### Modos de Apertura"
   ]
  },
  {
   "cell_type": "markdown",
   "metadata": {},
   "source": [
    "Por defecto un archivo se apertura en modo **lectura (r)** pero en la práctica existen muchos más modos los cuales nos permitiran escribir (w) o modificar un archivo ya existente"
   ]
  },
  {
   "cell_type": "markdown",
   "metadata": {},
   "source": [
    "<img src='./img/modo_apertura.PNG'>"
   ]
  },
  {
   "cell_type": "markdown",
   "metadata": {},
   "source": [
    "<img src='./img/modo_apertura2.PNG'>"
   ]
  },
  {
   "cell_type": "markdown",
   "metadata": {},
   "source": [
    "### Métodos de Archivos"
   ]
  },
  {
   "cell_type": "markdown",
   "metadata": {},
   "source": [
    "El objeto file, entre sus métodos más frecuentes, dispone de los siguientes"
   ]
  },
  {
   "cell_type": "markdown",
   "metadata": {},
   "source": [
    "<img src='./img/metodos_files.PNG'>"
   ]
  },
  {
   "cell_type": "markdown",
   "metadata": {
    "tags": []
   },
   "source": [
    "## Lectura"
   ]
  },
  {
   "cell_type": "code",
   "execution_count": 9,
   "metadata": {},
   "outputs": [
    {
     "name": "stdout",
     "output_type": "stream",
     "text": [
      "Lorem ipsum dolor sit amet. In minima sit tempora quod sit temporibus obcaecati et dolores quam est laboriosam eligendi. Ut omnis voluptate a galisum ducimus At distinctio dolor in voluptas perspiciatis ut accusantium nemo.\n",
      "\n",
      "Id omnis itaque ea rerum maiores ad eaque voluptatem eos culpa reprehenderit et consequatur nemo id optio inventore id soluta labore. Et accusantium autem et culpa omnis id pariatur obcaecati quo tempore incidunt qui illum placeat in quis tempore At quia perspiciatis. Ut tenetur blanditiis est animi laboriosam eos quisquam beatae ex dolores eveniet eum dolor beatae. Et alias facere sit possimus tenetur est alias assumenda ad quia corporis nam saepe autem vel alias culpa.\n",
      "\n",
      "Ut adipisci maxime et veniam nihil cum totam suscipit ex delectus internos commodi earum non natus corporis. Qui minus deleniti in debitis dolor aut provident nostrum ad consequatur voluptas eum iusto recusandae et illo magnam.\n"
     ]
    }
   ],
   "source": [
    "# Ruta donde leeremos el fichero, r indica lectura (por defecto ya es r)\n",
    "fichero = open('./src/texto_nuevo.txt','r')  \n",
    "\n",
    "# Lectura completa\n",
    "texto = fichero.read() #  read -> Metodo que permite la lectura de todo el archivo\n",
    "\n",
    "# Cerramos el fichero\n",
    "fichero.close()  \n",
    "\n",
    "print(texto)"
   ]
  },
  {
   "cell_type": "code",
   "execution_count": null,
   "metadata": {},
   "outputs": [],
   "source": []
  },
  {
   "cell_type": "code",
   "execution_count": 10,
   "metadata": {},
   "outputs": [
    {
     "name": "stdout",
     "output_type": "stream",
     "text": [
      "['Lorem ipsum dolor sit amet. In minima sit tempora quod sit temporibus obcaecati et dolores quam est laboriosam eligendi. Ut omnis voluptate a galisum ducimus At distinctio dolor in voluptas perspiciatis ut accusantium nemo.\\n', '\\n', 'Id omnis itaque ea rerum maiores ad eaque voluptatem eos culpa reprehenderit et consequatur nemo id optio inventore id soluta labore. Et accusantium autem et culpa omnis id pariatur obcaecati quo tempore incidunt qui illum placeat in quis tempore At quia perspiciatis. Ut tenetur blanditiis est animi laboriosam eos quisquam beatae ex dolores eveniet eum dolor beatae. Et alias facere sit possimus tenetur est alias assumenda ad quia corporis nam saepe autem vel alias culpa.\\n', '\\n', 'Ut adipisci maxime et veniam nihil cum totam suscipit ex delectus internos commodi earum non natus corporis. Qui minus deleniti in debitis dolor aut provident nostrum ad consequatur voluptas eum iusto recusandae et illo magnam.']\n"
     ]
    }
   ],
   "source": [
    "# Ruta donde leeremos el fichero, r indica lectura (por defecto ya es r)\n",
    "fichero = open('./src/texto_nuevo.txt','r')  \n",
    "\n",
    "# Lectura completa\n",
    "texto = fichero.readlines() #  read -> Metodo que permite la lectura de todo el archivo\n",
    "\n",
    "# Cerramos el fichero\n",
    "fichero.close()  \n",
    "\n",
    "print(texto)"
   ]
  },
  {
   "cell_type": "code",
   "execution_count": 11,
   "metadata": {},
   "outputs": [
    {
     "data": {
      "text/plain": [
       "5"
      ]
     },
     "execution_count": 11,
     "metadata": {},
     "output_type": "execute_result"
    }
   ],
   "source": [
    "len(texto)"
   ]
  },
  {
   "cell_type": "code",
   "execution_count": 13,
   "metadata": {},
   "outputs": [
    {
     "data": {
      "text/plain": [
       "'\\n'"
      ]
     },
     "execution_count": 13,
     "metadata": {},
     "output_type": "execute_result"
    }
   ],
   "source": [
    "texto[1]"
   ]
  },
  {
   "cell_type": "code",
   "execution_count": 16,
   "metadata": {},
   "outputs": [
    {
     "data": {
      "text/plain": [
       "'Lorem ipsum dolor sit amet. In minima sit tempora quod sit temporibus obcaecati et dolores quam est laboriosam eligendi. Ut omnis voluptate a galisum ducimus At distinctio dolor in voluptas perspiciatis ut accusantium nemo.\\n\\nId omnis itaque ea rerum maiores ad eaque voluptatem eos culpa reprehenderit et consequatur nemo id optio inventore id soluta labore. Et accusantium autem et culpa omnis id pariatur obcaecati quo tempore incidunt qui illum placeat in quis tempore At quia perspiciatis. Ut tenetur blanditiis est animi laboriosam eos quisquam beatae ex dolores eveniet eum dolor beatae. Et alias facere sit possimus tenetur est alias assumenda ad quia corporis nam saepe autem vel alias culpa.\\n\\nUt adipisci maxime et veniam nihil cum totam suscipit ex delectus internos commodi earum non natus corporis. Qui minus deleniti in debitis dolor aut provident nostrum ad consequatur voluptas eum iusto recusandae et illo magnam.'"
      ]
     },
     "execution_count": 16,
     "metadata": {},
     "output_type": "execute_result"
    }
   ],
   "source": [
    "# leo archivo\n",
    "with open('./src/texto_nuevo.txt', \"r\") as fichero:\n",
    "    # recupero info\n",
    "    texto_file = fichero.read()\n",
    "    pass\n",
    "\n",
    "# utilizo info\n",
    "texto_file"
   ]
  },
  {
   "cell_type": "code",
   "execution_count": null,
   "metadata": {},
   "outputs": [],
   "source": [
    "# texto_file"
   ]
  },
  {
   "cell_type": "markdown",
   "metadata": {},
   "source": [
    "También se puede leer un fichero utilizando la instrucción estándar with de la siguiente forma:"
   ]
  },
  {
   "cell_type": "code",
   "execution_count": 15,
   "metadata": {},
   "outputs": [
    {
     "name": "stdout",
     "output_type": "stream",
     "text": [
      "Lorem ipsum dolor sit amet. In minima sit tempora quod sit temporibus obcaecati et dolores quam est laboriosam eligendi. Ut omnis voluptate a galisum ducimus At distinctio dolor in voluptas perspiciatis ut accusantium nemo.\n",
      "\n",
      "\n",
      "\n",
      "Id omnis itaque ea rerum maiores ad eaque voluptatem eos culpa reprehenderit et consequatur nemo id optio inventore id soluta labore. Et accusantium autem et culpa omnis id pariatur obcaecati quo tempore incidunt qui illum placeat in quis tempore At quia perspiciatis. Ut tenetur blanditiis est animi laboriosam eos quisquam beatae ex dolores eveniet eum dolor beatae. Et alias facere sit possimus tenetur est alias assumenda ad quia corporis nam saepe autem vel alias culpa.\n",
      "\n",
      "\n",
      "\n",
      "Ut adipisci maxime et veniam nihil cum totam suscipit ex delectus internos commodi earum non natus corporis. Qui minus deleniti in debitis dolor aut provident nostrum ad consequatur voluptas eum iusto recusandae et illo magnam.\n"
     ]
    }
   ],
   "source": [
    "with open('./src/texto_nuevo.txt', \"r\") as fichero:\n",
    "    for linea in fichero:\n",
    "        print(linea)"
   ]
  },
  {
   "cell_type": "markdown",
   "metadata": {},
   "source": [
    "## Escritura"
   ]
  },
  {
   "cell_type": "code",
   "execution_count": 17,
   "metadata": {},
   "outputs": [
    {
     "name": "stdout",
     "output_type": "stream",
     "text": [
      "Una línea con texto\n",
      "Otra línea con texto\n"
     ]
    }
   ],
   "source": [
    "texto = \"Una línea con texto\\nOtra línea con texto\"\n",
    "\n",
    "print(texto)"
   ]
  },
  {
   "cell_type": "code",
   "execution_count": 18,
   "metadata": {},
   "outputs": [],
   "source": [
    "texto = \"Una línea con texto\\nOtra línea con texto\"\n",
    "\n",
    "# Ruta donde crearemos el fichero, w indica escritura (puntero al principio)\n",
    "# De existir el archivo, este será eliminado y creado uno nuevo \n",
    "with open('./src/fichero.txt','w') as f:\n",
    "    # Escribimos el texto\n",
    "    f.write(texto)"
   ]
  },
  {
   "cell_type": "code",
   "execution_count": 19,
   "metadata": {},
   "outputs": [],
   "source": [
    "with open('./src/fichero.txt','r') as f:\n",
    "    # Escribimos el texto\n",
    "    data = f.readlines()"
   ]
  },
  {
   "cell_type": "code",
   "execution_count": 20,
   "metadata": {},
   "outputs": [
    {
     "data": {
      "text/plain": [
       "['Una línea con texto\\n', 'Otra línea con texto']"
      ]
     },
     "execution_count": 20,
     "metadata": {},
     "output_type": "execute_result"
    }
   ],
   "source": [
    "data"
   ]
  },
  {
   "cell_type": "markdown",
   "metadata": {},
   "source": [
    "Este modo nos permite añadir datos al final de un fichero:"
   ]
  },
  {
   "cell_type": "code",
   "execution_count": 21,
   "metadata": {},
   "outputs": [],
   "source": [
    "# Ruta donde leeremos el fichero, a indica extensión (puntero al final)\n",
    "with open('./src/fichero.txt','a') as f:\n",
    "    f.write('\\nmás lineas')"
   ]
  },
  {
   "cell_type": "markdown",
   "metadata": {},
   "source": [
    "La variante 'a' permite crear el fichero si no existe:"
   ]
  },
  {
   "cell_type": "code",
   "execution_count": 22,
   "metadata": {},
   "outputs": [],
   "source": [
    "# Ruta archivo del tipo a+\n",
    "with open('./src/fichero_inventado.txt','a') as f:\n",
    "    f.write('\\nhola mundo')\n",
    "    pass"
   ]
  },
  {
   "cell_type": "markdown",
   "metadata": {
    "tags": []
   },
   "source": [
    "## Lectura con escritura"
   ]
  },
  {
   "cell_type": "markdown",
   "metadata": {},
   "source": [
    "Se puede abrir un fichero en modo lectura con escritura, pero éste debe existir préviamente. Además por defecto el puntero estará al principio y si escribimos algo sobreescribiremos el contenido actual, así que prestad atención a los saltos de línea y caracteres especiales:\n"
   ]
  },
  {
   "cell_type": "code",
   "execution_count": 25,
   "metadata": {},
   "outputs": [],
   "source": [
    "# Creamos un fichero de prueba con 4 líneas\n",
    "fichero = open('./src/fichero2.txt','w')\n",
    "texto = \"Línea 1\\nLínea 2\\nLínea 3\\nLínea 4\"\n",
    "fichero.write(texto)\n",
    "fichero.close()"
   ]
  },
  {
   "cell_type": "code",
   "execution_count": 26,
   "metadata": {},
   "outputs": [
    {
     "data": {
      "text/plain": [
       "5"
      ]
     },
     "execution_count": 26,
     "metadata": {},
     "output_type": "execute_result"
    }
   ],
   "source": [
    "# Lo abrimos en lectura con escritura y escribimos algo\n",
    "fichero = open('./src/fichero2.txt','r+')\n",
    "fichero.write(\"01234\")\n"
   ]
  },
  {
   "cell_type": "code",
   "execution_count": null,
   "metadata": {},
   "outputs": [],
   "source": [
    "# fichero.close()"
   ]
  },
  {
   "cell_type": "code",
   "execution_count": 27,
   "metadata": {},
   "outputs": [
    {
     "name": "stdout",
     "output_type": "stream",
     "text": [
      "01234 1\n",
      "Línea 2\n",
      "Línea 3\n",
      "Línea 4\n"
     ]
    }
   ],
   "source": [
    "# Volvemos a ponter el puntero al inicio y leemos hasta el final\n",
    "fichero.seek(0) # devulevo puntero al inicio\n",
    "l = fichero.read()\n",
    "print(l)\n",
    "fichero.close()"
   ]
  },
  {
   "cell_type": "markdown",
   "metadata": {},
   "source": [
    "### Modificar una línea"
   ]
  },
  {
   "cell_type": "markdown",
   "metadata": {},
   "source": [
    "Para lograr este fin lo mejor es leer todas las líneas en una lista, modificar la línea en la lista, posicionar el puntero al principio y reescribir de nuevo todas las líneas:\n"
   ]
  },
  {
   "cell_type": "code",
   "execution_count": 28,
   "metadata": {},
   "outputs": [
    {
     "data": {
      "text/plain": [
       "['01234 1\\n', 'Línea 2\\n', 'Línea 3\\n', 'Línea 4']"
      ]
     },
     "execution_count": 28,
     "metadata": {},
     "output_type": "execute_result"
    }
   ],
   "source": [
    "fichero = open('./src/fichero2.txt','r+')\n",
    "texto = fichero.readlines()\n",
    "\n",
    "texto"
   ]
  },
  {
   "cell_type": "code",
   "execution_count": 29,
   "metadata": {},
   "outputs": [
    {
     "name": "stdout",
     "output_type": "stream",
     "text": [
      "01234 1\n",
      "Línea 2\n",
      "Esta es la línea 3 modificada\n",
      "Línea 4\n"
     ]
    }
   ],
   "source": [
    "# Modificamos la línea que queramos a partir del índice\n",
    "texto[2] = \"Esta es la línea 3 modificada\\n\"\n",
    "\n",
    "# Volvemos a ponter el puntero al inicio y reescribimos\n",
    "fichero.seek(0)\n",
    "fichero.writelines(texto)\n",
    "fichero.close()\n",
    "\n",
    "# Leemos el fichero de nuevo\n",
    "with open(\"./src/fichero2.txt\", \"r\") as fichero:\n",
    "    print(fichero.read())"
   ]
  },
  {
   "cell_type": "code",
   "execution_count": 31,
   "metadata": {},
   "outputs": [
    {
     "data": {
      "text/plain": [
       "'01234 1\\nLínea 2\\nEsta es la línea 3 modificada\\nLínea 4'"
      ]
     },
     "execution_count": 31,
     "metadata": {},
     "output_type": "execute_result"
    }
   ],
   "source": [
    "\n",
    "text_file = open(\"./src/fichero2.txt\").read()\n",
    "text_file"
   ]
  },
  {
   "cell_type": "code",
   "execution_count": 35,
   "metadata": {},
   "outputs": [
    {
     "data": {
      "text/plain": [
       "'01234 1\\ntexto 2\\nesta es la texto 3 modificada\\ntexto 4'"
      ]
     },
     "execution_count": 35,
     "metadata": {},
     "output_type": "execute_result"
    }
   ],
   "source": [
    "n_text = text_file.lower().replace('línea', 'texto')\n",
    "n_text"
   ]
  },
  {
   "cell_type": "code",
   "execution_count": 36,
   "metadata": {},
   "outputs": [
    {
     "data": {
      "text/plain": [
       "53"
      ]
     },
     "execution_count": 36,
     "metadata": {},
     "output_type": "execute_result"
    }
   ],
   "source": [
    "# de esta forma, no se requiere cerrar archivo\n",
    "open(\"./src/fichero3.txt\", 'w').write(n_text)"
   ]
  },
  {
   "cell_type": "code",
   "execution_count": null,
   "metadata": {},
   "outputs": [],
   "source": []
  },
  {
   "cell_type": "code",
   "execution_count": null,
   "metadata": {},
   "outputs": [],
   "source": []
  },
  {
   "cell_type": "markdown",
   "metadata": {},
   "source": [
    "### <a href='https://docs.python.org/2.4/lib/standard-encodings.html'>Encoding</a>"
   ]
  },
  {
   "cell_type": "markdown",
   "metadata": {},
   "source": [
    "**encoding** es el nombre de la codificación utilizada para decodificar o codificar el archivo. Esto solo debe usarse en modo texto. La codificación predeterminada es dependiente de la plataforma, pero cualquier codificación compatible con Python se puede utilizar."
   ]
  },
  {
   "cell_type": "markdown",
   "metadata": {},
   "source": [
    "Más conocidos:\n",
    "\n",
    "- utf-8\n",
    "- latin1\n",
    "- ascii\n"
   ]
  },
  {
   "cell_type": "markdown",
   "metadata": {},
   "source": [
    "#### Lectura sin encoding con texto español\n",
    "\n",
    "\n"
   ]
  },
  {
   "cell_type": "code",
   "execution_count": 37,
   "metadata": {},
   "outputs": [
    {
     "name": "stdout",
     "output_type": "stream",
     "text": [
      "Este es un texto en espaÃ±ol\n"
     ]
    }
   ],
   "source": [
    "with open('./src/fichero_esp.txt','r') as f:\n",
    "    texto = f.read()\n",
    "    print(texto)"
   ]
  },
  {
   "cell_type": "markdown",
   "metadata": {},
   "source": [
    "#### Lectura con encoding utf-8"
   ]
  },
  {
   "cell_type": "code",
   "execution_count": 39,
   "metadata": {},
   "outputs": [
    {
     "name": "stdout",
     "output_type": "stream",
     "text": [
      "Este es un texto en español\n"
     ]
    }
   ],
   "source": [
    "with open('./src/fichero_esp.txt','r',encoding='utf-8') as f:\n",
    "    texto = f.read()\n",
    "    print(texto)"
   ]
  },
  {
   "cell_type": "markdown",
   "metadata": {},
   "source": [
    "# EJERCICIOS\n",
    "----------------------------"
   ]
  },
  {
   "cell_type": "markdown",
   "metadata": {},
   "source": [
    "<h3>1.</h3>\n",
    "\n",
    "En este ejercicio deberás crear un script llamado <code>personas.py</code> que lea los datos de un fichero de texto, que transforme cada fila en un diccionario y lo añada a una lista llamada personas. Luego rocorre las personas de la lista y para cada una muestra de forma amigable todos sus campos.\n",
    "\n",
    "El fichero de texto se denominará <code>personas.txt</code> y tendrá el siguiente contenido en texto plano (créalo previamente):"
   ]
  },
  {
   "cell_type": "markdown",
   "metadata": {},
   "source": [
    "<code>1;Carlos;Pérez;05/01/1989\n",
    "2;Manuel;Heredia;26/12/1973\n",
    "3;Rosa;Campos;12/06/1961\n",
    "4;David;García;25/07/2006</code>"
   ]
  },
  {
   "cell_type": "code",
   "execution_count": null,
   "metadata": {},
   "outputs": [],
   "source": []
  },
  {
   "cell_type": "code",
   "execution_count": null,
   "metadata": {},
   "outputs": [],
   "source": []
  }
 ],
 "metadata": {
  "kernelspec": {
   "display_name": "Python 3 (ipykernel)",
   "language": "python",
   "name": "python3"
  },
  "language_info": {
   "codemirror_mode": {
    "name": "ipython",
    "version": 3
   },
   "file_extension": ".py",
   "mimetype": "text/x-python",
   "name": "python",
   "nbconvert_exporter": "python",
   "pygments_lexer": "ipython3",
   "version": "3.8.12"
  }
 },
 "nbformat": 4,
 "nbformat_minor": 4
}
